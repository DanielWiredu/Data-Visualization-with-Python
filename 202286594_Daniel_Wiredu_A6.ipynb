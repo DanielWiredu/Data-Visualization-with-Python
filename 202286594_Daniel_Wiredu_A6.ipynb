{
 "cells": [
  {
   "cell_type": "markdown",
   "id": "750f50e2",
   "metadata": {},
   "source": [
    "# COMP 6934 - Assignment 6\n",
    "- Professor:       Terrence Tricco\n",
    "- Term:            Winter 2024\n",
    "- Student Name:    **Daniel Wiredu**\n",
    "- Student User:    **dbwiredu**\n",
    "- Student Email:   dbwiredu@mun.ca\n",
    "- Student ID:      **202286594**"
   ]
  },
  {
   "cell_type": "code",
   "execution_count": 1,
   "id": "c30e47d1",
   "metadata": {},
   "outputs": [],
   "source": [
    "# import libraries\n",
    "import pandas as pd\n",
    "import matplotlib.pyplot as plt\n",
    "import seaborn as sns\n",
    "import numpy as np\n",
    "import ipywidgets as widgets\n",
    "from ipywidgets import interact, interact_manual"
   ]
  },
  {
   "cell_type": "markdown",
   "id": "fa470426",
   "metadata": {},
   "source": [
    "## Question 1:"
   ]
  },
  {
   "cell_type": "markdown",
   "id": "e1544f5f",
   "metadata": {},
   "source": [
    "___"
   ]
  },
  {
   "cell_type": "code",
   "execution_count": 2,
   "id": "f955d90e",
   "metadata": {
    "scrolled": false
   },
   "outputs": [
    {
     "data": {
      "application/vnd.jupyter.widget-view+json": {
       "model_id": "e2aa3228c49d42e4b9143f14fca56ac7",
       "version_major": 2,
       "version_minor": 0
      },
      "text/plain": [
       "interactive(children=(Dropdown(description='Origin', options=('All', 'Natural', 'Lab'), value='All'), Output()…"
      ]
     },
     "metadata": {},
     "output_type": "display_data"
    }
   ],
   "source": [
    "# Load the data\n",
    "diamonds = pd.read_csv('diamonds.csv')\n",
    "\n",
    "# Define the order of clarity and color\n",
    "color_order = ['D', 'E', 'F', 'G', 'H', 'I', 'J']\n",
    "clarity_order = ['SI2', 'SI1', 'VS2', 'VS1', 'VVS2', 'VVS1', 'IF']\n",
    "\n",
    "@interact(origin = widgets.Dropdown(options=['All', 'Natural', 'Lab'], value='All', description=\"Origin\"))\n",
    "def f(origin):\n",
    "    # Filter data based on origin\n",
    "    if origin == 'All':\n",
    "        filtered_data = diamonds\n",
    "    else:\n",
    "        filtered_data = diamonds[diamonds['type'].str.upper() == origin.upper()]\n",
    "    \n",
    "    # Calculate average carat weight for each combination of colour and clarity\n",
    "    heatmap_data = filtered_data.groupby(['colour', 'clarity'])['carat'].mean().unstack()\n",
    "    \n",
    "    heatmap_data = heatmap_data.fillna(0)\n",
    "    \n",
    "    # Reorder columns and rows\n",
    "    heatmap_data = heatmap_data.reindex(index=color_order, columns=clarity_order)  \n",
    "    \n",
    "    # Final Plot\n",
    "    fig, ax = plt.subplots(figsize=(7,5))\n",
    "    ax = sns.heatmap(data=heatmap_data, cmap=\"mako\", ax=ax)   "
   ]
  },
  {
   "cell_type": "code",
   "execution_count": null,
   "id": "c010cd98",
   "metadata": {},
   "outputs": [],
   "source": []
  },
  {
   "cell_type": "markdown",
   "id": "c07454ce",
   "metadata": {},
   "source": [
    "## Question 2:"
   ]
  },
  {
   "cell_type": "markdown",
   "id": "e377c17e",
   "metadata": {},
   "source": [
    "___"
   ]
  },
  {
   "cell_type": "code",
   "execution_count": 3,
   "id": "9e79b55c",
   "metadata": {},
   "outputs": [
    {
     "name": "stderr",
     "output_type": "stream",
     "text": [
      "/var/folders/8r/hr5c8n_s09g6mx1_l9wgppxw0000gn/T/ipykernel_18262/1319137282.py:7: MatplotlibDeprecationWarning: The get_cmap function was deprecated in Matplotlib 3.7 and will be removed two minor releases later. Use ``matplotlib.colormaps[name]`` or ``matplotlib.colormaps.get_cmap(obj)`` instead.\n",
      "  blues_cmap = cm.get_cmap('Blues', lut=10)\n"
     ]
    },
    {
     "data": {
      "application/vnd.jupyter.widget-view+json": {
       "model_id": "2931533aee8c49bda247a53471258596",
       "version_major": 2,
       "version_minor": 0
      },
      "text/plain": [
       "interactive(children=(Dropdown(description='Sport', options=('All', 'Combined', 'Athletics', 'Gymnastics', 'Sw…"
      ]
     },
     "metadata": {},
     "output_type": "display_data"
    }
   ],
   "source": [
    "from matplotlib.colors import LinearSegmentedColormap\n",
    "import matplotlib.cm as cm\n",
    "\n",
    "# Load the data\n",
    "olympic_data = pd.read_csv('olympic_athletes.csv')\n",
    "\n",
    "blues_cmap = cm.get_cmap('Blues', lut=10)\n",
    "blues_mod = blues_cmap(np.linspace(0.1, 1, 10))\n",
    "#print(blues_mod)\n",
    "blues_mod_cmap = LinearSegmentedColormap.from_list('BluesMod', blues_mod)\n",
    "\n",
    "#gold_medals = olympic_data[(olympic_data['Medal'] == 'Gold') & (olympic_data['Year'].between(2000, 2016))]\n",
    "\n",
    "sports_options = ['Athletics', 'Gymnastics', 'Swimming', 'Shooting', 'Cycling', 'Fencing', 'Rowing', 'Wrestling']\n",
    "#sports_options = gold_medals['Sport'].unique()\n",
    "\n",
    "\n",
    "# Filter gold medal winners from 2000 to 2016 Olympics\n",
    "#gold_medals = olympic_data[(olympic_data['Medal'] == 'Gold') & (olympic_data['Year'].between(2000, 2016))]\n",
    "\n",
    "def plot_dist(sport, kde, display_data):\n",
    "    \n",
    "    gold_medals = olympic_data[(olympic_data['Medal'] == 'Gold') & (olympic_data['Year'].between(2000, 2016))]\n",
    "    if sport == 'Combined':\n",
    "        gold_medals = gold_medals[gold_medals['Sport'].isin(sports_options)]   \n",
    "    elif sport == 'All':\n",
    "        gold_medals = gold_medals\n",
    "    else:\n",
    "        gold_medals = gold_medals[(gold_medals['Sport'].str.upper() == sport.upper())]\n",
    "    \n",
    "    #print(sport)\n",
    "    #print(sports_options)\n",
    "    \n",
    "    # Bin the height and weight data\n",
    "    height_bins = range(int(gold_medals['Height'].min()), int(gold_medals['Height'].max()), 5)\n",
    "    weight_bins = range(int(gold_medals['Weight'].min()), int(gold_medals['Weight'].max()), 5)\n",
    "\n",
    "    hist, x_edges, y_edges = np.histogram2d(gold_medals['Weight'], gold_medals['Height'], bins=[weight_bins, height_bins])\n",
    "\n",
    "    nonzero_hist = np.where(hist > 0, hist, np.nan)\n",
    "\n",
    "    extent = [x_edges[0], x_edges[-1], y_edges[0], y_edges[-1]]\n",
    "    \n",
    "    #ax = plt.subplot(111)\n",
    "    if (kde):\n",
    "        sns.kdeplot(x='Weight', y='Height', data=gold_medals, fill=True, cmap=\"Blues\")\n",
    "    else:    \n",
    "        # Plot 2D histogram using imshow\n",
    "        plt.imshow(nonzero_hist.T, extent=extent, origin='lower', cmap=\"Blues\")\n",
    "    \n",
    "    if (display_data):\n",
    "        sns.scatterplot(x='Weight', y='Height', data=gold_medals.sort_values(by='Sex',ascending=False), hue='Sex')\n",
    "    \n",
    "    # Add labels and title\n",
    "    plt.xlabel('Weight')\n",
    "    plt.ylabel('Height')\n",
    "    plt.xlim(20, 140)\n",
    "    plt.ylim(130, 220)\n",
    "    plt.xticks([20,40,60,80,100,120,140])\n",
    "    plt.yticks([130,140,150,160,170,180,190,200,210,220])\n",
    "    \n",
    "    # Show plot\n",
    "    plt.show()\n",
    "\n",
    "dlSport = widgets.Dropdown(options=['All','Combined']+sports_options, description=\"Sport\")\n",
    "ckKde = widgets.Checkbox(value=False, description=\"kde\")\n",
    "ckDisplayData = widgets.Checkbox(value=False, description=\"display_data\")\n",
    "interact(plot_dist, sport=dlSport, kde=ckKde, display_data=ckDisplayData);"
   ]
  },
  {
   "cell_type": "code",
   "execution_count": null,
   "id": "9f2073a7",
   "metadata": {},
   "outputs": [],
   "source": []
  },
  {
   "cell_type": "markdown",
   "id": "245396f7",
   "metadata": {},
   "source": [
    "## Question 3:"
   ]
  },
  {
   "cell_type": "markdown",
   "id": "c7812fdd",
   "metadata": {},
   "source": [
    "___"
   ]
  },
  {
   "cell_type": "code",
   "execution_count": 4,
   "id": "bbead255",
   "metadata": {},
   "outputs": [
    {
     "data": {
      "application/vnd.jupyter.widget-view+json": {
       "model_id": "66dc880b954045a6870186560289671b",
       "version_major": 2,
       "version_minor": 0
      },
      "text/plain": [
       "interactive(children=(Dropdown(description='Year', options=(2017, 2016, 2019, 2015, 2014, 2018, 2013, 2020, 20…"
      ]
     },
     "metadata": {},
     "output_type": "display_data"
    }
   ],
   "source": [
    "cars = pd.read_csv(\"used_cars.csv\")\n",
    "years = cars['year'].unique()\n",
    "brands = cars[cars['year'] == years[0]]['brand'].unique()\n",
    "models = cars[(cars['year'] == years[0]) & (cars['brand'].str.upper() == brands[0].upper())]['model'].unique()\n",
    "\n",
    "def cars_plot(year, brand, model):\n",
    "    \n",
    "    brands = cars[cars['year'] == int(year)]['brand'].unique()\n",
    "    dlBrand.options = brands\n",
    "    #brand = brands[0]\n",
    "    \n",
    "    models = cars[(cars['year'] == int(year)) & (cars['brand'].str.upper() == brand.upper())]['model'].unique()\n",
    "    dlModel.options = models\n",
    "    #model = [models[0]]\n",
    "    \n",
    "    fig, ax = plt.subplots(figsize=(7,5))\n",
    "    cars_data = cars[(cars['year'] == int(year)) & (cars['brand'].str.upper() == brand.upper()) & (cars['model'].isin(model))]\n",
    "    #print(cars_data)\n",
    "    ax = sns.scatterplot(x='price', y='mileage', data=cars_data, hue='model')\n",
    "    ax.set_xlabel(\"Price\")\n",
    "    ax.set_ylabel(\"Mileage\")\n",
    "    ax.set_title(str(year) + \" \" + brand)\n",
    "    #plt.close(p1.fig)\n",
    "    #brand = ''\n",
    "    #model = ('')\n",
    "    \n",
    "dlYear = widgets.Dropdown(options=years, description=\"Year\")\n",
    "dlBrand = widgets.Dropdown(options=brands, description=\"Brand\")\n",
    "dlModel = widgets.SelectMultiple(options=models, description=\"Model\")\n",
    "\n",
    "dlYear.observe(cars_plot, 'value', dlBrand)\n",
    "dlBrand.observe(cars_plot, 'value', dlModel)\n",
    "\n",
    "interact(cars_plot, year=dlYear, brand=dlBrand, model=dlModel);"
   ]
  },
  {
   "cell_type": "markdown",
   "id": "a5cad3ae",
   "metadata": {},
   "source": [
    "## References\n"
   ]
  },
  {
   "cell_type": "code",
   "execution_count": null,
   "id": "a016a745",
   "metadata": {},
   "outputs": [],
   "source": []
  }
 ],
 "metadata": {
  "kernelspec": {
   "display_name": "Python 3.11.5 64-bit",
   "language": "python",
   "name": "python3"
  },
  "language_info": {
   "codemirror_mode": {
    "name": "ipython",
    "version": 3
   },
   "file_extension": ".py",
   "mimetype": "text/x-python",
   "name": "python",
   "nbconvert_exporter": "python",
   "pygments_lexer": "ipython3",
   "version": "3.11.5"
  },
  "vscode": {
   "interpreter": {
    "hash": "aee8b7b246df8f9039afb4144a1f6fd8d2ca17a180786b69acc140d282b71a49"
   }
  }
 },
 "nbformat": 4,
 "nbformat_minor": 5
}
